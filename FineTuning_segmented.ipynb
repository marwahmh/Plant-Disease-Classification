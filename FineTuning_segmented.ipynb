{
  "nbformat": 4,
  "nbformat_minor": 0,
  "metadata": {
    "colab": {
      "name": "FineTuning_segmented.ipynb",
      "provenance": []
    },
    "kernelspec": {
      "name": "python3",
      "display_name": "Python 3"
    },
    "accelerator": "GPU"
  },
  "cells": [
    {
      "cell_type": "code",
      "metadata": {
        "colab": {
          "base_uri": "https://localhost:8080/"
        },
        "id": "pv8ISzWjlBR3",
        "outputId": "b1feb16b-e915-49f5-810a-491b674e3abb"
      },
      "source": [
        "from google.colab import drive\r\n",
        "\r\n",
        "drive.mount('/content/drive')"
      ],
      "execution_count": 1,
      "outputs": [
        {
          "output_type": "stream",
          "text": [
            "Mounted at /content/drive\n"
          ],
          "name": "stdout"
        }
      ]
    },
    {
      "cell_type": "code",
      "metadata": {
        "id": "08TRy8SulYIH",
        "colab": {
          "base_uri": "https://localhost:8080/"
        },
        "outputId": "08abd6ee-0da3-40be-8698-369b40b4a8ae"
      },
      "source": [
        "! git clone https://github.com/spMohanty/PlantVillage-Dataset\r\n"
      ],
      "execution_count": 2,
      "outputs": [
        {
          "output_type": "stream",
          "text": [
            "Cloning into 'PlantVillage-Dataset'...\n",
            "remote: Enumerating objects: 163229, done.\u001b[K\n",
            "remote: Total 163229 (delta 0), reused 0 (delta 0), pack-reused 163229\u001b[K\n",
            "Receiving objects: 100% (163229/163229), 2.00 GiB | 16.89 MiB/s, done.\n",
            "Resolving deltas: 100% (99/99), done.\n",
            "Checking out files: 100% (182401/182401), done.\n"
          ],
          "name": "stdout"
        }
      ]
    },
    {
      "cell_type": "code",
      "metadata": {
        "id": "ABwMc8U4lwSh"
      },
      "source": [
        "#importing necessary libraries and APIs\r\n",
        "\r\n",
        "import warnings\r\n",
        "warnings.filterwarnings(\"ignore\")\r\n",
        "import os\r\n",
        "import glob\r\n",
        "import matplotlib.pyplot as plt\r\n",
        "import keras\r\n",
        "\r\n",
        "from keras.models import Sequential\r\n",
        "from keras.layers import Dense,Dropout,Flatten\r\n",
        "from keras.layers import Conv2D,MaxPooling2D,Activation,AveragePooling2D,BatchNormalization\r\n",
        "from keras.preprocessing.image import ImageDataGenerator\r\n",
        "import tensorflow as tf\r\n"
      ],
      "execution_count": 3,
      "outputs": []
    },
    {
      "cell_type": "code",
      "metadata": {
        "id": "8iydz2-h44qN"
      },
      "source": [
        "import os\r\n",
        "import numpy as np\r\n",
        "import matplotlib.pyplot as plt"
      ],
      "execution_count": 14,
      "outputs": []
    },
    {
      "cell_type": "code",
      "metadata": {
        "id": "PwNEx00HmhTE"
      },
      "source": [
        "#data path\r\n",
        "\r\n",
        "data_dir = \"/content/PlantVillage-Dataset/raw/segmented\"\r\n"
      ],
      "execution_count": 4,
      "outputs": []
    },
    {
      "cell_type": "code",
      "metadata": {
        "id": "cHNafGG4ofBu"
      },
      "source": [
        "#function that counts the number of files in a dierctory\r\n",
        "def get_files(dir):\r\n",
        "  if not os.path.exists(dir):\r\n",
        "    return 0\r\n",
        "  c=0 #initialize count with zero\r\n",
        "  for curr_path,dirs,files in os.walk(dir):\r\n",
        "    for d in dirs:\r\n",
        "      c+= len(glob.glob(os.path.join(curr_path,d+\"/*\")))\r\n",
        "\r\n",
        "  return c"
      ],
      "execution_count": 5,
      "outputs": []
    },
    {
      "cell_type": "code",
      "metadata": {
        "id": "F-tV3pBVoZBK",
        "colab": {
          "base_uri": "https://localhost:8080/"
        },
        "outputId": "d0a28ef1-fe87-4ff9-c852-3cec764aa06d"
      },
      "source": [
        "segmented_data=get_files(data_dir)\r\n",
        "num_classes=len(glob.glob(data_dir+\"/*\"))\r\n",
        "print(num_classes,\"Classes\")\r\n"
      ],
      "execution_count": 6,
      "outputs": [
        {
          "output_type": "stream",
          "text": [
            "38 Classes\n"
          ],
          "name": "stdout"
        }
      ]
    },
    {
      "cell_type": "code",
      "metadata": {
        "id": "BKqGaLQXdhkn",
        "colab": {
          "base_uri": "https://localhost:8080/"
        },
        "outputId": "34be1013-5eb8-4247-fbac-8bb89c7f89a3"
      },
      "source": [
        "pip install split-folders\r\n"
      ],
      "execution_count": 7,
      "outputs": [
        {
          "output_type": "stream",
          "text": [
            "Collecting split-folders\n",
            "  Downloading https://files.pythonhosted.org/packages/b8/5f/3c2b2f7ea5e047c8cdc3bb00ae582c5438fcdbbedcc23b3cc1c2c7aae642/split_folders-0.4.3-py3-none-any.whl\n",
            "Installing collected packages: split-folders\n",
            "Successfully installed split-folders-0.4.3\n"
          ],
          "name": "stdout"
        }
      ]
    },
    {
      "cell_type": "code",
      "metadata": {
        "id": "cCMU9UKndyUB",
        "colab": {
          "base_uri": "https://localhost:8080/"
        },
        "outputId": "19d57363-9fb0-4f50-dc5f-a811e320262d"
      },
      "source": [
        "import splitfolders \r\n",
        "splitfolders.ratio(\"/content/PlantVillage-Dataset/raw/segmented\", output=\"train_test\", seed=1337, ratio=(.8, .2), group_prefix=None) # default values\r\n"
      ],
      "execution_count": 8,
      "outputs": [
        {
          "output_type": "stream",
          "text": [
            "Copying files: 54306 files [00:07, 7259.90 files/s]\n"
          ],
          "name": "stderr"
        }
      ]
    },
    {
      "cell_type": "code",
      "metadata": {
        "id": "jJflV8QBfe5T"
      },
      "source": [
        "train_dir =\"/content/train_test/train\"\r\n",
        "test_dir=\"/content/train_test/val\"\r\n"
      ],
      "execution_count": 9,
      "outputs": []
    },
    {
      "cell_type": "code",
      "metadata": {
        "id": "2sAAsKuEohqy"
      },
      "source": [
        "#data generator to generate images \r\n",
        "\r\n",
        "train_datagen=ImageDataGenerator(rescale=1./255, shear_range=0.2, zoom_range=0.2, validation_split=0.2,horizontal_flip=True)\r\n",
        "test_datagen=ImageDataGenerator(rescale=1./255)"
      ],
      "execution_count": 10,
      "outputs": []
    },
    {
      "cell_type": "code",
      "metadata": {
        "id": "XLIa9kJqol1Y",
        "colab": {
          "base_uri": "https://localhost:8080/"
        },
        "outputId": "70838039-5ea3-4280-f277-0af9e4858822"
      },
      "source": [
        "img_width,img_height =224,224 #sizes are compatible with MobileNet\r\n",
        "input_shape=(img_width,img_height,3)\r\n",
        "batch_size =64\r\n",
        "train_generator =train_datagen.flow_from_directory(train_dir,shuffle=True, #added shuffle here\r\n",
        "                                                   target_size=(img_width,img_height),\r\n",
        "                                                   batch_size=batch_size,\r\n",
        "                                                   subset='training')\r\n",
        "validation_generator =train_datagen.flow_from_directory(train_dir,shuffle=True, #added shuffle here\r\n",
        "                                                   target_size=(img_width,img_height),\r\n",
        "                                                   batch_size=batch_size,\r\n",
        "                                                   subset='validation')\r\n",
        "test_generator=test_datagen.flow_from_directory(test_dir,shuffle=True,\r\n",
        "                                                   target_size=(img_width,img_height),\r\n",
        "                                                   batch_size=batch_size)"
      ],
      "execution_count": 11,
      "outputs": [
        {
          "output_type": "stream",
          "text": [
            "Found 34757 images belonging to 38 classes.\n",
            "Found 8673 images belonging to 38 classes.\n",
            "Found 10876 images belonging to 38 classes.\n"
          ],
          "name": "stdout"
        }
      ]
    },
    {
      "cell_type": "code",
      "metadata": {
        "id": "5t79L2VRtRC-",
        "colab": {
          "base_uri": "https://localhost:8080/"
        },
        "outputId": "dc964039-5270-46af-d442-905076fb9597"
      },
      "source": [
        "\r\n",
        "IMG_SHAPE = (img_width, img_height, 3)\r\n",
        "\r\n",
        "# base model is the pre-trained model MobileNet V2 (from keras library)\r\n",
        "base_model = tf.keras.applications.MobileNetV2(input_shape=IMG_SHAPE, include_top=False, weights='imagenet')"
      ],
      "execution_count": 12,
      "outputs": [
        {
          "output_type": "stream",
          "text": [
            "Downloading data from https://storage.googleapis.com/tensorflow/keras-applications/mobilenet_v2/mobilenet_v2_weights_tf_dim_ordering_tf_kernels_1.0_224_no_top.h5\n",
            "9412608/9406464 [==============================] - 0s 0us/step\n"
          ],
          "name": "stdout"
        }
      ]
    },
    {
      "cell_type": "code",
      "metadata": {
        "id": "NEexynQS3dzv"
      },
      "source": [
        "#Adding the layers (model 1)\r\n",
        "\r\n",
        "model = tf.keras.Sequential([\r\n",
        "  base_model,\r\n",
        "  tf.keras.layers.Conv2D(32, 3, activation='elu'),\r\n",
        "  tf.keras.layers.Dropout(0.5),  #increase dropout\r\n",
        "  tf.keras.layers.GlobalAveragePooling2D(),\r\n",
        "  tf.keras.layers.Dense(38, activation='softmax')\r\n",
        "])"
      ],
      "execution_count": 13,
      "outputs": []
    },
    {
      "cell_type": "code",
      "metadata": {
        "id": "7lcJ5LPH5AgD"
      },
      "source": [
        "base_model.trainable = True\r\n"
      ],
      "execution_count": 15,
      "outputs": []
    },
    {
      "cell_type": "code",
      "metadata": {
        "id": "6bPo3kuA5E28",
        "colab": {
          "base_uri": "https://localhost:8080/"
        },
        "outputId": "4f7e028f-3be6-43d9-b54f-71e04d18c5f7"
      },
      "source": [
        "print(\"The number of layers in base model: \", len(base_model.layers))\r\n",
        "fine_tune_at = 100 #training the last 55\r\n",
        "for layer in base_model.layers[:fine_tune_at]: # freezing the layers till the point we specified\r\n",
        "  layer.trainable =  False"
      ],
      "execution_count": 16,
      "outputs": [
        {
          "output_type": "stream",
          "text": [
            "Number of layers in the base model:  155\n"
          ],
          "name": "stdout"
        }
      ]
    },
    {
      "cell_type": "code",
      "metadata": {
        "id": "mCwsge7M5Itc"
      },
      "source": [
        "model.compile(loss='categorical_crossentropy',\r\n",
        "              optimizer = tf.keras.optimizers.Adam(1e-5),\r\n",
        "              metrics=['accuracy'])"
      ],
      "execution_count": 17,
      "outputs": []
    },
    {
      "cell_type": "code",
      "metadata": {
        "id": "zQILoyaY5LuA",
        "colab": {
          "base_uri": "https://localhost:8080/"
        },
        "outputId": "21901882-c882-4946-8af7-48be925a7f83"
      },
      "source": [
        "model.summary()\r\n"
      ],
      "execution_count": 18,
      "outputs": [
        {
          "output_type": "stream",
          "text": [
            "Model: \"sequential\"\n",
            "_________________________________________________________________\n",
            "Layer (type)                 Output Shape              Param #   \n",
            "=================================================================\n",
            "mobilenetv2_1.00_224 (Functi (None, 7, 7, 1280)        2257984   \n",
            "_________________________________________________________________\n",
            "conv2d (Conv2D)              (None, 5, 5, 32)          368672    \n",
            "_________________________________________________________________\n",
            "dropout (Dropout)            (None, 5, 5, 32)          0         \n",
            "_________________________________________________________________\n",
            "global_average_pooling2d (Gl (None, 32)                0         \n",
            "_________________________________________________________________\n",
            "dense (Dense)                (None, 38)                1254      \n",
            "=================================================================\n",
            "Total params: 2,627,910\n",
            "Trainable params: 2,232,518\n",
            "Non-trainable params: 395,392\n",
            "_________________________________________________________________\n"
          ],
          "name": "stdout"
        }
      ]
    },
    {
      "cell_type": "code",
      "metadata": {
        "id": "_E8i2dE95Nos",
        "colab": {
          "base_uri": "https://localhost:8080/"
        },
        "outputId": "18f80a32-a988-4626-8b86-ca8388aae0bf"
      },
      "source": [
        "print('Number of trainable variables = {}'.format(len(model.trainable_variables)))\r\n"
      ],
      "execution_count": 19,
      "outputs": [
        {
          "output_type": "stream",
          "text": [
            "Number of trainable variables = 60\n"
          ],
          "name": "stdout"
        }
      ]
    },
    {
      "cell_type": "code",
      "metadata": {
        "id": "X1q7woYb5Q1Z",
        "colab": {
          "base_uri": "https://localhost:8080/"
        },
        "outputId": "abe178d9-122c-46b2-bc40-a46ab46f7adf"
      },
      "source": [
        "history_fine = model.fit_generator(train_generator, \r\n",
        "                         epochs=10,\r\n",
        "                         validation_data=validation_generator)"
      ],
      "execution_count": 20,
      "outputs": [
        {
          "output_type": "stream",
          "text": [
            "WARNING:tensorflow:From <ipython-input-20-11cca3a17f0c>:3: Model.fit_generator (from tensorflow.python.keras.engine.training) is deprecated and will be removed in a future version.\n",
            "Instructions for updating:\n",
            "Please use Model.fit, which supports generators.\n",
            "Epoch 1/10\n",
            "544/544 [==============================] - 441s 811ms/step - loss: 1.7208 - accuracy: 0.5747 - val_loss: 1.5478 - val_accuracy: 0.5742\n",
            "Epoch 2/10\n",
            "544/544 [==============================] - 441s 811ms/step - loss: 0.6128 - accuracy: 0.8406 - val_loss: 0.7787 - val_accuracy: 0.7884\n",
            "Epoch 3/10\n",
            "544/544 [==============================] - 441s 810ms/step - loss: 0.3806 - accuracy: 0.8963 - val_loss: 0.4168 - val_accuracy: 0.8852\n",
            "Epoch 4/10\n",
            "544/544 [==============================] - 439s 807ms/step - loss: 0.2772 - accuracy: 0.9225 - val_loss: 0.2773 - val_accuracy: 0.9203\n",
            "Epoch 5/10\n",
            "544/544 [==============================] - 437s 804ms/step - loss: 0.2195 - accuracy: 0.9372 - val_loss: 0.2020 - val_accuracy: 0.9399\n",
            "Epoch 6/10\n",
            "544/544 [==============================] - 436s 801ms/step - loss: 0.1776 - accuracy: 0.9474 - val_loss: 0.1572 - val_accuracy: 0.9503\n",
            "Epoch 7/10\n",
            "544/544 [==============================] - 439s 807ms/step - loss: 0.1460 - accuracy: 0.9563 - val_loss: 0.1423 - val_accuracy: 0.9584\n",
            "Epoch 8/10\n",
            "544/544 [==============================] - 442s 813ms/step - loss: 0.1272 - accuracy: 0.9625 - val_loss: 0.1255 - val_accuracy: 0.9623\n",
            "Epoch 9/10\n",
            "544/544 [==============================] - 442s 812ms/step - loss: 0.1102 - accuracy: 0.9665 - val_loss: 0.1069 - val_accuracy: 0.9684\n",
            "Epoch 10/10\n",
            "544/544 [==============================] - 438s 806ms/step - loss: 0.0994 - accuracy: 0.9703 - val_loss: 0.1039 - val_accuracy: 0.9673\n"
          ],
          "name": "stdout"
        }
      ]
    },
    {
      "cell_type": "code",
      "metadata": {
        "id": "Co72ptaPJ2JX",
        "colab": {
          "base_uri": "https://localhost:8080/"
        },
        "outputId": "67913c91-a10e-4b35-8580-1d51afaca743"
      },
      "source": [
        "score = model.evaluate(test_generator)\r\n",
        "print('Test loss:', score[0])\r\n",
        "print('Test accuracy:', score[1])"
      ],
      "execution_count": 23,
      "outputs": [
        {
          "output_type": "stream",
          "text": [
            "170/170 [==============================] - 20s 120ms/step - loss: 0.1090 - accuracy: 0.9654\n",
            "Test loss: 0.1089906096458435\n",
            "Test accuracy: 0.9654284715652466\n"
          ],
          "name": "stdout"
        }
      ]
    },
    {
      "cell_type": "code",
      "metadata": {
        "id": "x47bjlVe5VSl",
        "colab": {
          "base_uri": "https://localhost:8080/",
          "height": 513
        },
        "outputId": "ec894c63-9ff1-4e16-a90d-9cde069b6f21"
      },
      "source": [
        "acc = history_fine.history['accuracy']\r\n",
        "val_acc = history_fine.history['val_accuracy']\r\n",
        "\r\n",
        "loss = history_fine.history['loss']\r\n",
        "val_loss = history_fine.history['val_loss']\r\n",
        "\r\n",
        "plt.figure(figsize=(8, 8))\r\n",
        "plt.subplot(2, 1, 1)\r\n",
        "plt.plot(acc, label='Training Accuracy')\r\n",
        "plt.plot(val_acc, label='Validation Accuracy')\r\n",
        "plt.legend(loc='lower right')\r\n",
        "plt.ylabel('Accuracy')\r\n",
        "plt.ylim([min(plt.ylim()),1])\r\n",
        "plt.title('Training and Validation Accuracy')\r\n",
        "\r\n",
        "plt.subplot(2, 1, 2)\r\n",
        "plt.plot(loss, label='Training Loss')\r\n",
        "plt.plot(val_loss, label='Validation Loss')\r\n",
        "plt.legend(loc='upper right')\r\n",
        "plt.ylabel('Cross Entropy')\r\n",
        "plt.ylim([0,1.0])\r\n",
        "plt.title('Training and Validation Loss')\r\n",
        "plt.xlabel('epoch')\r\n",
        "plt.show()"
      ],
      "execution_count": 24,
      "outputs": [
        {
          "output_type": "display_data",
          "data": {
            "image/png": "[encoded data removed]",
            "text/plain": [
              "<Figure size 576x576 with 2 Axes>"
            ]
          },
          "metadata": {
            "tags": [],
            "needs_background": "light"
          }
        }
      ]
    }
  ]
}