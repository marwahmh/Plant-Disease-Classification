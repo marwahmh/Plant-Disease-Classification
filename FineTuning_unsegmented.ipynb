{
  "nbformat": 4,
  "nbformat_minor": 0,
  "metadata": {
    "colab": {
      "name": "FineTuning_unsegmented.ipynb",
      "provenance": []
    },
    "kernelspec": {
      "name": "python3",
      "display_name": "Python 3"
    },
    "accelerator": "GPU"
  },
  "cells": [
    {
      "cell_type": "code",
      "metadata": {
        "colab": {
          "base_uri": "https://localhost:8080/"
        },
        "id": "pv8ISzWjlBR3",
        "outputId": "12901a3c-132d-4edc-ad1a-d1c5aeabbd9a"
      },
      "source": [
        "from google.colab import drive\r\n",
        "\r\n",
        "drive.mount('/content/drive')"
      ],
      "execution_count": 2,
      "outputs": [
        {
          "output_type": "stream",
          "text": [
            "Mounted at /content/drive\n"
          ],
          "name": "stdout"
        }
      ]
    },
    {
      "cell_type": "code",
      "metadata": {
        "colab": {
          "base_uri": "https://localhost:8080/"
        },
        "id": "08TRy8SulYIH",
        "outputId": "371e10ee-a745-4e23-a83f-efae8e0d63e0"
      },
      "source": [
        "! git clone https://github.com/MichaelGerhard/PlantDiseaseData"
      ],
      "execution_count": 3,
      "outputs": [
        {
          "output_type": "stream",
          "text": [
            "Cloning into 'PlantDiseaseData'...\n",
            "remote: Enumerating objects: 2, done.\u001b[K\n",
            "remote: Counting objects: 100% (2/2), done.\u001b[K\n",
            "remote: Compressing objects: 100% (2/2), done.\u001b[K\n",
            "remote: Total 54367 (delta 0), reused 0 (delta 0), pack-reused 54365\u001b[K\n",
            "Receiving objects: 100% (54367/54367), 803.83 MiB | 38.67 MiB/s, done.\n",
            "Checking out files: 100% (54305/54305), done.\n"
          ],
          "name": "stdout"
        }
      ]
    },
    {
      "cell_type": "code",
      "metadata": {
        "id": "ABwMc8U4lwSh"
      },
      "source": [
        "#importing necessary libraries and APIs\r\n",
        "\r\n",
        "import warnings\r\n",
        "warnings.filterwarnings(\"ignore\")\r\n",
        "import os\r\n",
        "import glob\r\n",
        "import matplotlib.pyplot as plt\r\n",
        "import keras\r\n",
        "\r\n",
        "from keras.models import Sequential\r\n",
        "from keras.layers import Dense,Dropout,Flatten\r\n",
        "from keras.layers import Conv2D,MaxPooling2D,Activation,AveragePooling2D,BatchNormalization\r\n",
        "from keras.preprocessing.image import ImageDataGenerator\r\n",
        "import tensorflow as tf\r\n"
      ],
      "execution_count": 4,
      "outputs": []
    },
    {
      "cell_type": "code",
      "metadata": {
        "id": "8iydz2-h44qN"
      },
      "source": [
        "import os\r\n",
        "import numpy as np\r\n",
        "import matplotlib.pyplot as plt"
      ],
      "execution_count": 110,
      "outputs": []
    },
    {
      "cell_type": "code",
      "metadata": {
        "id": "PwNEx00HmhTE"
      },
      "source": [
        "#sets paths\r\n",
        "\r\n",
        "train_dir =\"/content/PlantDiseaseData/Train\"\r\n",
        "test_dir=\"/content/PlantDiseaseData/Test\"\r\n"
      ],
      "execution_count": 96,
      "outputs": []
    },
    {
      "cell_type": "code",
      "metadata": {
        "id": "DgIZXuXAmw46"
      },
      "source": [
        "#function that counts the number of files in a dierctory\r\n",
        "def get_files(dir):\r\n",
        "  if not os.path.exists(dir):\r\n",
        "    return 0\r\n",
        "  c=0 #initialize count with zero\r\n",
        "  for curr_path,dirs,files in os.walk(dir):\r\n",
        "    for d in dirs:\r\n",
        "      c+= len(glob.glob(os.path.join(curr_path,d+\"/*\")))\r\n",
        "\r\n",
        "  return c"
      ],
      "execution_count": 97,
      "outputs": []
    },
    {
      "cell_type": "code",
      "metadata": {
        "colab": {
          "base_uri": "https://localhost:8080/"
        },
        "id": "gSWAICGbm2Hd",
        "outputId": "5cf388d1-4710-4616-8aed-c7a798a44bea"
      },
      "source": [
        "train_samples =get_files(train_dir)\r\n",
        "num_classes=len(glob.glob(train_dir+\"/*\"))\r\n",
        "test_samples=get_files(test_dir) \r\n",
        "print(num_classes,\"Classes\")\r\n",
        "print(train_samples,\"Train images\")\r\n",
        "print(test_samples,\"Test images\")"
      ],
      "execution_count": 98,
      "outputs": [
        {
          "output_type": "stream",
          "text": [
            "38 Classes\n",
            "43429 Train images\n",
            "10876 Test images\n"
          ],
          "name": "stdout"
        }
      ]
    },
    {
      "cell_type": "code",
      "metadata": {
        "id": "2sAAsKuEohqy"
      },
      "source": [
        "#data generator to generate images \r\n",
        "train_datagen= ImageDataGenerator(rescale=1./255, shear_range=0.2, zoom_range=0.2, validation_split=0.2, horizontal_flip=True)\r\n",
        "test_datagen= ImageDataGenerator(rescale=1./255)"
      ],
      "execution_count": 99,
      "outputs": []
    },
    {
      "cell_type": "code",
      "metadata": {
        "id": "XLIa9kJqol1Y",
        "colab": {
          "base_uri": "https://localhost:8080/"
        },
        "outputId": "62c3bf41-7316-46b0-fbc4-ef063c3302fe"
      },
      "source": [
        "img_width,img_height =224,224 #sizes are compatible with MobileNet\r\n",
        "input_shape=(img_width,img_height,3)\r\n",
        "batch_size =64\r\n",
        "train_generator =train_datagen.flow_from_directory(train_dir,shuffle=True, #added shuffle here\r\n",
        "                                                   target_size=(img_width,img_height),\r\n",
        "                                                   batch_size=batch_size,\r\n",
        "                                                   subset='training')\r\n",
        "validation_generator =train_datagen.flow_from_directory(train_dir,shuffle=True, #added shuffle here\r\n",
        "                                                   target_size=(img_width,img_height),\r\n",
        "                                                   batch_size=batch_size,\r\n",
        "                                                   subset='validation')\r\n",
        "test_generator=test_datagen.flow_from_directory(test_dir,shuffle=True,\r\n",
        "                                                   target_size=(img_width,img_height),\r\n",
        "                                                   batch_size=batch_size)"
      ],
      "execution_count": 100,
      "outputs": [
        {
          "output_type": "stream",
          "text": [
            "Found 34756 images belonging to 38 classes.\n",
            "Found 8673 images belonging to 38 classes.\n",
            "Found 10876 images belonging to 38 classes.\n"
          ],
          "name": "stdout"
        }
      ]
    },
    {
      "cell_type": "code",
      "metadata": {
        "id": "5t79L2VRtRC-"
      },
      "source": [
        "\r\n",
        "IMG_SHAPE = (img_width, img_height, 3)\r\n",
        "\r\n",
        "# base model is the pre-trained model MobileNet V2 (from keras library)\r\n",
        "base_model = tf.keras.applications.MobileNetV2(input_shape=IMG_SHAPE,\r\n",
        "                                              include_top=False, \r\n",
        "                                              weights='imagenet')"
      ],
      "execution_count": 108,
      "outputs": []
    },
    {
      "cell_type": "code",
      "metadata": {
        "id": "NEexynQS3dzv"
      },
      "source": [
        "#Adding the layers (model 1)\r\n",
        "\r\n",
        "model = tf.keras.Sequential([\r\n",
        "  base_model,\r\n",
        "  tf.keras.layers.Conv2D(32, 3, activation='elu'),\r\n",
        "  tf.keras.layers.Dropout(0.5),  #increase dropout\r\n",
        "  tf.keras.layers.GlobalAveragePooling2D(),\r\n",
        "  tf.keras.layers.Dense(38, activation='softmax')\r\n",
        "])"
      ],
      "execution_count": 120,
      "outputs": []
    },
    {
      "cell_type": "code",
      "metadata": {
        "id": "7lcJ5LPH5AgD"
      },
      "source": [
        "base_model.trainable = True\r\n"
      ],
      "execution_count": 125,
      "outputs": []
    },
    {
      "cell_type": "code",
      "metadata": {
        "id": "6bPo3kuA5E28",
        "colab": {
          "base_uri": "https://localhost:8080/"
        },
        "outputId": "2f3916bb-5ebc-442a-f332-b45f608e142d"
      },
      "source": [
        "print(\"Number of layers in the base model: \", len(base_model.layers))\r\n",
        "\r\n",
        "fine_tune_at = 100 #training the last 55\r\n",
        "for layer in base_model.layers[:fine_tune_at]: # freezing the layers till the point we specified\r\n",
        "  layer.trainable =  False"
      ],
      "execution_count": 126,
      "outputs": [
        {
          "output_type": "stream",
          "text": [
            "Number of layers in the base model:  155\n"
          ],
          "name": "stdout"
        }
      ]
    },
    {
      "cell_type": "code",
      "metadata": {
        "id": "mCwsge7M5Itc"
      },
      "source": [
        "model.compile(loss='categorical_crossentropy',\r\n",
        "              optimizer = tf.keras.optimizers.Adam(1e-5),\r\n",
        "              metrics=['accuracy'])"
      ],
      "execution_count": 127,
      "outputs": []
    },
    {
      "cell_type": "code",
      "metadata": {
        "id": "zQILoyaY5LuA",
        "colab": {
          "base_uri": "https://localhost:8080/"
        },
        "outputId": "6e834ab6-e036-4aa2-b4ca-d8aac177205b"
      },
      "source": [
        "model.summary()\r\n"
      ],
      "execution_count": 128,
      "outputs": [
        {
          "output_type": "stream",
          "text": [
            "Model: \"sequential_10\"\n",
            "_________________________________________________________________\n",
            "Layer (type)                 Output Shape              Param #   \n",
            "=================================================================\n",
            "mobilenetv2_1.00_224 (Functi (None, 7, 7, 1280)        2257984   \n",
            "_________________________________________________________________\n",
            "conv2d_4 (Conv2D)            (None, 5, 5, 32)          368672    \n",
            "_________________________________________________________________\n",
            "dropout_4 (Dropout)          (None, 5, 5, 32)          0         \n",
            "_________________________________________________________________\n",
            "global_average_pooling2d_8 ( (None, 32)                0         \n",
            "_________________________________________________________________\n",
            "dense_9 (Dense)              (None, 38)                1254      \n",
            "=================================================================\n",
            "Total params: 2,627,910\n",
            "Trainable params: 2,232,518\n",
            "Non-trainable params: 395,392\n",
            "_________________________________________________________________\n"
          ],
          "name": "stdout"
        }
      ]
    },
    {
      "cell_type": "code",
      "metadata": {
        "id": "_E8i2dE95Nos",
        "colab": {
          "base_uri": "https://localhost:8080/"
        },
        "outputId": "ee7aa66d-fca2-47a3-a40e-7ffc6a3c114f"
      },
      "source": [
        "print('Number of trainable variables = {}'.format(len(model.trainable_variables)))\r\n"
      ],
      "execution_count": 129,
      "outputs": [
        {
          "output_type": "stream",
          "text": [
            "Number of trainable variables = 60\n"
          ],
          "name": "stdout"
        }
      ]
    },
    {
      "cell_type": "code",
      "metadata": {
        "id": "X1q7woYb5Q1Z",
        "colab": {
          "base_uri": "https://localhost:8080/"
        },
        "outputId": "bc973e65-6bc6-43ba-d54b-6bef9ff53ada"
      },
      "source": [
        "history_fine = model.fit_generator(train_generator, \r\n",
        "                         epochs=10,\r\n",
        "                         validation_data=validation_generator)"
      ],
      "execution_count": 130,
      "outputs": [
        {
          "output_type": "stream",
          "text": [
            "Epoch 1/10\n",
            "544/544 [==============================] - 460s 846ms/step - loss: 1.6898 - accuracy: 0.5920 - val_loss: 1.2773 - val_accuracy: 0.6862\n",
            "Epoch 2/10\n",
            "544/544 [==============================] - 462s 849ms/step - loss: 0.6320 - accuracy: 0.8457 - val_loss: 0.6346 - val_accuracy: 0.8418\n",
            "Epoch 3/10\n",
            "544/544 [==============================] - 470s 865ms/step - loss: 0.3848 - accuracy: 0.9023 - val_loss: 0.3915 - val_accuracy: 0.8954\n",
            "Epoch 4/10\n",
            "544/544 [==============================] - 473s 869ms/step - loss: 0.2753 - accuracy: 0.9270 - val_loss: 0.2758 - val_accuracy: 0.9272\n",
            "Epoch 5/10\n",
            "544/544 [==============================] - 476s 876ms/step - loss: 0.2154 - accuracy: 0.9423 - val_loss: 0.1984 - val_accuracy: 0.9438\n",
            "Epoch 6/10\n",
            "544/544 [==============================] - 484s 890ms/step - loss: 0.1701 - accuracy: 0.9539 - val_loss: 0.1660 - val_accuracy: 0.9553\n",
            "Epoch 7/10\n",
            "544/544 [==============================] - 495s 909ms/step - loss: 0.1471 - accuracy: 0.9591 - val_loss: 0.1380 - val_accuracy: 0.9617\n",
            "Epoch 8/10\n",
            "544/544 [==============================] - 492s 905ms/step - loss: 0.1237 - accuracy: 0.9660 - val_loss: 0.1204 - val_accuracy: 0.9637\n",
            "Epoch 9/10\n",
            "544/544 [==============================] - 475s 873ms/step - loss: 0.1063 - accuracy: 0.9704 - val_loss: 0.1139 - val_accuracy: 0.9678\n",
            "Epoch 10/10\n",
            "544/544 [==============================] - 460s 845ms/step - loss: 0.0936 - accuracy: 0.9733 - val_loss: 0.0941 - val_accuracy: 0.9719\n"
          ],
          "name": "stdout"
        }
      ]
    },
    {
      "cell_type": "code",
      "metadata": {
        "colab": {
          "base_uri": "https://localhost:8080/"
        },
        "id": "Co72ptaPJ2JX",
        "outputId": "92359824-5e3d-41bb-d6c2-3930a367f703"
      },
      "source": [
        "score = model.evaluate(test_generator)\r\n",
        "print('Test loss:', score[0])\r\n",
        "print('Test accuracy:', score[1])"
      ],
      "execution_count": 131,
      "outputs": [
        {
          "output_type": "stream",
          "text": [
            "170/170 [==============================] - 24s 141ms/step - loss: 0.1007 - accuracy: 0.9691\n",
            "Test loss: 0.10069690644741058\n",
            "Test accuracy: 0.9691063165664673\n"
          ],
          "name": "stdout"
        }
      ]
    },
    {
      "cell_type": "code",
      "metadata": {
        "id": "x47bjlVe5VSl",
        "colab": {
          "base_uri": "https://localhost:8080/",
          "height": 513
        },
        "outputId": "66f839b2-a655-4228-a238-78db21eb55e4"
      },
      "source": [
        "acc = history_fine.history['accuracy']\r\n",
        "val_acc = history_fine.history['val_accuracy']\r\n",
        "\r\n",
        "loss = history_fine.history['loss']\r\n",
        "val_loss = history_fine.history['val_loss']\r\n",
        "\r\n",
        "plt.figure(figsize=(8, 8))\r\n",
        "plt.subplot(2, 1, 1)\r\n",
        "plt.plot(acc, label='Training Accuracy')\r\n",
        "plt.plot(val_acc, label='Validation Accuracy')\r\n",
        "plt.legend(loc='lower right')\r\n",
        "plt.ylabel('Accuracy')\r\n",
        "plt.ylim([min(plt.ylim()),1])\r\n",
        "plt.title('Training and Validation Accuracy')\r\n",
        "\r\n",
        "plt.subplot(2, 1, 2)\r\n",
        "plt.plot(loss, label='Training Loss')\r\n",
        "plt.plot(val_loss, label='Validation Loss')\r\n",
        "plt.legend(loc='upper right')\r\n",
        "plt.ylabel('Cross Entropy')\r\n",
        "plt.ylim([0,1.0])\r\n",
        "plt.title('Training and Validation Loss')\r\n",
        "plt.xlabel('epoch')\r\n",
        "plt.show()"
      ],
      "execution_count": 132,
      "outputs": [
        {
          "output_type": "display_data",
          "data": {
            "image/png": "[encoded data removed]",
            "text/plain": [
              "<Figure size 576x576 with 2 Axes>"
            ]
          },
          "metadata": {
            "tags": [],
            "needs_background": "light"
          }
        }
      ]
    }
  ]
}