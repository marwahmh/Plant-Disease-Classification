{
  "nbformat": 4,
  "nbformat_minor": 0,
  "metadata": {
    "colab": {
      "name": "exp1_unsegmented.ipynb",
      "provenance": [],
      "collapsed_sections": []
    },
    "kernelspec": {
      "name": "python3",
      "display_name": "Python 3"
    },
    "accelerator": "GPU"
  },
  "cells": [
    {
      "cell_type": "code",
      "metadata": {
        "colab": {
          "base_uri": "https://localhost:8080/"
        },
        "id": "pv8ISzWjlBR3",
        "outputId": "9561cc95-f0af-46cb-a13a-c68aa202d171"
      },
      "source": [
        "from google.colab import drive\r\n",
        "\r\n",
        "drive.mount('/content/drive')"
      ],
      "execution_count": null,
      "outputs": [
        {
          "output_type": "stream",
          "text": [
            "Mounted at /content/drive\n"
          ],
          "name": "stdout"
        }
      ]
    },
    {
      "cell_type": "code",
      "metadata": {
        "colab": {
          "base_uri": "https://localhost:8080/"
        },
        "id": "08TRy8SulYIH",
        "outputId": "85ae6b82-ddac-4c72-feab-a565b76d3865"
      },
      "source": [
        "#dataset \r\n",
        "\r\n",
        "! git clone https://github.com/MichaelGerhard/PlantDiseaseData"
      ],
      "execution_count": null,
      "outputs": [
        {
          "output_type": "stream",
          "text": [
            "Cloning into 'PlantDiseaseData'...\n",
            "remote: Enumerating objects: 2, done.\u001b[K\n",
            "remote: Counting objects: 100% (2/2), done.\u001b[K\n",
            "remote: Compressing objects: 100% (2/2), done.\u001b[K\n",
            "remote: Total 54367 (delta 0), reused 0 (delta 0), pack-reused 54365\u001b[K\n",
            "Receiving objects: 100% (54367/54367), 803.83 MiB | 38.18 MiB/s, done.\n",
            "Checking out files: 100% (54305/54305), done.\n"
          ],
          "name": "stdout"
        }
      ]
    },
    {
      "cell_type": "code",
      "metadata": {
        "id": "ABwMc8U4lwSh"
      },
      "source": [
        "#importing necessary libraries and APIs\r\n",
        "import warnings\r\n",
        "warnings.filterwarnings(\"ignore\")\r\n",
        "import os\r\n",
        "import glob\r\n",
        "import matplotlib.pyplot as plt\r\n",
        "import keras\r\n",
        "\r\n",
        "from keras.models import Sequential\r\n",
        "from keras.layers import Dense,Dropout,Flatten\r\n",
        "from keras.layers import Conv2D,MaxPooling2D,Activation,AveragePooling2D,BatchNormalization\r\n",
        "from keras.preprocessing.image import ImageDataGenerator\r\n",
        "import tensorflow as tf\r\n"
      ],
      "execution_count": null,
      "outputs": []
    },
    {
      "cell_type": "code",
      "metadata": {
        "id": "8iydz2-h44qN"
      },
      "source": [
        "import os\r\n",
        "import numpy as np\r\n",
        "import matplotlib.pyplot as plt"
      ],
      "execution_count": null,
      "outputs": []
    },
    {
      "cell_type": "code",
      "metadata": {
        "id": "PwNEx00HmhTE"
      },
      "source": [
        "#sets paths\r\n",
        "\r\n",
        "train_dir =\"/content/PlantDiseaseData/Train\"\r\n",
        "test_dir=\"/content/PlantDiseaseData/Test\"\r\n"
      ],
      "execution_count": null,
      "outputs": []
    },
    {
      "cell_type": "code",
      "metadata": {
        "id": "DgIZXuXAmw46"
      },
      "source": [
        "#function that counts the number of files in a dierctory\r\n",
        "def get_files(dir):\r\n",
        "  if not os.path.exists(dir):\r\n",
        "    return 0\r\n",
        "  c=0 #initialize count with zero\r\n",
        "  for curr_path,dirs,files in os.walk(dir):\r\n",
        "    for d in dirs:\r\n",
        "      c+= len(glob.glob(os.path.join(curr_path,d+\"/*\")))\r\n",
        "\r\n",
        "  return c"
      ],
      "execution_count": null,
      "outputs": []
    },
    {
      "cell_type": "code",
      "metadata": {
        "colab": {
          "base_uri": "https://localhost:8080/"
        },
        "id": "gSWAICGbm2Hd",
        "outputId": "e892b716-5d1f-4731-a622-805bd6dc27cc"
      },
      "source": [
        "train_samples =get_files(train_dir)\r\n",
        "num_classes=len(glob.glob(train_dir+\"/*\"))\r\n",
        "test_samples=get_files(test_dir) \r\n",
        "print(num_classes,\"classes\")\r\n",
        "print(train_samples,\"Training images\")\r\n",
        "print(test_samples,\"Testing images\")"
      ],
      "execution_count": null,
      "outputs": [
        {
          "output_type": "stream",
          "text": [
            "38 Classes\n",
            "43429 Train images\n",
            "10876 Test images\n"
          ],
          "name": "stdout"
        }
      ]
    },
    {
      "cell_type": "code",
      "metadata": {
        "id": "2sAAsKuEohqy"
      },
      "source": [
        "#data generator to generate images \r\n",
        "\r\n",
        "train_datagen=ImageDataGenerator(rescale=1./255, shear_range=0.2, zoom_range=0.2, validation_split=0.2, horizontal_flip=True)\r\n",
        "test_datagen=ImageDataGenerator(rescale=1./255)"
      ],
      "execution_count": null,
      "outputs": []
    },
    {
      "cell_type": "code",
      "metadata": {
        "id": "XLIa9kJqol1Y",
        "colab": {
          "base_uri": "https://localhost:8080/"
        },
        "outputId": "6fd8d34e-7bc7-4486-8471-1567d543d11c"
      },
      "source": [
        "img_width,img_height =224,224 #sizes are compatible with MobileNet\r\n",
        "input_shape=(img_width,img_height,3)\r\n",
        "batch_size =64\r\n",
        "train_generator =train_datagen.flow_from_directory(train_dir,shuffle=True, target_size=(img_width,img_height), \r\n",
        "                                                   batch_size=batch_size, subset='training')\r\n",
        "\r\n",
        "validation_generator =train_datagen.flow_from_directory(train_dir,shuffle=True,target_size=(img_width,img_height),\r\n",
        "                                                   batch_size=batch_size, subset='validation')\r\n",
        "\r\n",
        "test_generator=test_datagen.flow_from_directory(test_dir,shuffle=True, target_size=(img_width,img_height),\r\n",
        "                                                   batch_size=batch_size)"
      ],
      "execution_count": null,
      "outputs": [
        {
          "output_type": "stream",
          "text": [
            "Found 34756 images belonging to 38 classes.\n",
            "Found 8673 images belonging to 38 classes.\n",
            "Found 10876 images belonging to 38 classes.\n"
          ],
          "name": "stdout"
        }
      ]
    },
    {
      "cell_type": "code",
      "metadata": {
        "colab": {
          "base_uri": "https://localhost:8080/"
        },
        "id": "Yg2K6nu_r9Qg",
        "outputId": "762c1138-ea00-4d7b-e9ba-440ee9634358"
      },
      "source": [
        "\r\n",
        "for image_batch, label_batch in train_generator:\r\n",
        "  break\r\n",
        "image_batch.shape, label_batch.shape\r\n",
        "\r\n"
      ],
      "execution_count": null,
      "outputs": [
        {
          "output_type": "execute_result",
          "data": {
            "text/plain": [
              "((64, 224, 224, 3), (64, 38))"
            ]
          },
          "metadata": {
            "tags": []
          },
          "execution_count": 31
        }
      ]
    },
    {
      "cell_type": "code",
      "metadata": {
        "colab": {
          "base_uri": "https://localhost:8080/"
        },
        "id": "-2gtGaA7s-bh",
        "outputId": "c9814c04-f426-4e6d-fd0f-7de6b24f6c5a"
      },
      "source": [
        "print (train_generator.class_indices)\r\n",
        "labels = '\\n'.join(sorted(train_generator.class_indices.keys()))\r\n",
        "with open('labels.txt', 'w') as f:\r\n",
        "  f.write(labels)"
      ],
      "execution_count": null,
      "outputs": [
        {
          "output_type": "stream",
          "text": [
            "{'Apple___Apple_scab': 0, 'Apple___Black_rot': 1, 'Apple___Cedar_apple_rust': 2, 'Apple___healthy': 3, 'Blueberry___healthy': 4, 'Cherry_(including_sour)___Powdery_mildew': 5, 'Cherry_(including_sour)___healthy': 6, 'Corn_(maize)___Cercospora_leaf_spot Gray_leaf_spot': 7, 'Corn_(maize)___Common_rust_': 8, 'Corn_(maize)___Northern_Leaf_Blight': 9, 'Corn_(maize)___healthy': 10, 'Grape___Black_rot': 11, 'Grape___Esca_(Black_Measles)': 12, 'Grape___Leaf_blight_(Isariopsis_Leaf_Spot)': 13, 'Grape___healthy': 14, 'Orange___Haunglongbing_(Citrus_greening)': 15, 'Peach___Bacterial_spot': 16, 'Peach___healthy': 17, 'Pepper,_bell___Bacterial_spot': 18, 'Pepper,_bell___healthy': 19, 'Potato___Early_blight': 20, 'Potato___Late_blight': 21, 'Potato___healthy': 22, 'Raspberry___healthy': 23, 'Soybean___healthy': 24, 'Squash___Powdery_mildew': 25, 'Strawberry___Leaf_scorch': 26, 'Strawberry___healthy': 27, 'Tomato___Bacterial_spot': 28, 'Tomato___Early_blight': 29, 'Tomato___Late_blight': 30, 'Tomato___Leaf_Mold': 31, 'Tomato___Septoria_leaf_spot': 32, 'Tomato___Spider_mites Two-spotted_spider_mite': 33, 'Tomato___Target_Spot': 34, 'Tomato___Tomato_Yellow_Leaf_Curl_Virus': 35, 'Tomato___Tomato_mosaic_virus': 36, 'Tomato___healthy': 37}\n"
          ],
          "name": "stdout"
        }
      ]
    },
    {
      "cell_type": "code",
      "metadata": {
        "id": "5t79L2VRtRC-"
      },
      "source": [
        "#image shape is 224x224x3\r\n",
        "IMG_SHAPE = (img_width, img_height, 3)\r\n",
        "# base model is the pre-trained model MobileNet V2 (from keras library)\r\n",
        "base_model = tf.keras.applications.MobileNetV2(input_shape=IMG_SHAPE,\r\n",
        "                                              include_top=False, \r\n",
        "                                              weights='imagenet')\r\n",
        "base_model.trainable=False"
      ],
      "execution_count": null,
      "outputs": []
    },
    {
      "cell_type": "code",
      "metadata": {
        "id": "NEexynQS3dzv"
      },
      "source": [
        "\r\n",
        "#Adding the layers (model 1)\r\n",
        "model = tf.keras.Sequential([\r\n",
        "  base_model,\r\n",
        "  tf.keras.layers.Conv2D(32, 3, activation='elu'),\r\n",
        "  tf.keras.layers.Dropout(0.5),  #increase dropout\r\n",
        "  tf.keras.layers.GlobalAveragePooling2D(),\r\n",
        "  tf.keras.layers.Dense(38, activation='softmax')\r\n",
        "])"
      ],
      "execution_count": null,
      "outputs": []
    },
    {
      "cell_type": "code",
      "metadata": {
        "id": "V8sJNMhw3h5p"
      },
      "source": [
        "model.compile(optimizer=tf.keras.optimizers.Adam(), \r\n",
        "              loss='categorical_crossentropy', \r\n",
        "              metrics=['accuracy'])"
      ],
      "execution_count": null,
      "outputs": []
    },
    {
      "cell_type": "code",
      "metadata": {
        "colab": {
          "base_uri": "https://localhost:8080/"
        },
        "id": "aaEHi7VO3lE4",
        "outputId": "d9d9c089-7ca0-42b5-8dba-c1756ae49d5f"
      },
      "source": [
        "model.summary()\r\n"
      ],
      "execution_count": null,
      "outputs": [
        {
          "output_type": "stream",
          "text": [
            "Model: \"sequential_5\"\n",
            "_________________________________________________________________\n",
            "Layer (type)                 Output Shape              Param #   \n",
            "=================================================================\n",
            "mobilenetv2_1.00_224 (Functi (None, 7, 7, 1280)        2257984   \n",
            "_________________________________________________________________\n",
            "conv2d_5 (Conv2D)            (None, 5, 5, 32)          368672    \n",
            "_________________________________________________________________\n",
            "dropout_5 (Dropout)          (None, 5, 5, 32)          0         \n",
            "_________________________________________________________________\n",
            "global_average_pooling2d_5 ( (None, 32)                0         \n",
            "_________________________________________________________________\n",
            "dense_5 (Dense)              (None, 38)                1254      \n",
            "=================================================================\n",
            "Total params: 2,627,910\n",
            "Trainable params: 369,926\n",
            "Non-trainable params: 2,257,984\n",
            "_________________________________________________________________\n"
          ],
          "name": "stdout"
        }
      ]
    },
    {
      "cell_type": "code",
      "metadata": {
        "colab": {
          "base_uri": "https://localhost:8080/"
        },
        "id": "gHD8GZGb3t1a",
        "outputId": "59fa01e4-600a-47ad-9735-3dac2fb8140a"
      },
      "source": [
        "epochs = 10\r\n",
        "history = model.fit(train_generator, \r\n",
        "                    epochs=epochs, \r\n",
        "                    validation_data=validation_generator)"
      ],
      "execution_count": null,
      "outputs": [
        {
          "output_type": "stream",
          "text": [
            "Epoch 1/10\n",
            "544/544 [==============================] - 456s 838ms/step - loss: 0.7657 - accuracy: 0.7831 - val_loss: 0.4106 - val_accuracy: 0.8678\n",
            "Epoch 2/10\n",
            "544/544 [==============================] - 455s 836ms/step - loss: 0.3623 - accuracy: 0.8849 - val_loss: 0.2724 - val_accuracy: 0.9110\n",
            "Epoch 3/10\n",
            "544/544 [==============================] - 454s 835ms/step - loss: 0.2788 - accuracy: 0.9082 - val_loss: 0.2983 - val_accuracy: 0.9015\n",
            "Epoch 4/10\n",
            "544/544 [==============================] - 454s 835ms/step - loss: 0.2458 - accuracy: 0.9192 - val_loss: 0.2325 - val_accuracy: 0.9246\n",
            "Epoch 5/10\n",
            "544/544 [==============================] - 454s 835ms/step - loss: 0.2450 - accuracy: 0.9185 - val_loss: 0.2353 - val_accuracy: 0.9219\n",
            "Epoch 6/10\n",
            "544/544 [==============================] - 456s 838ms/step - loss: 0.2177 - accuracy: 0.9277 - val_loss: 0.2253 - val_accuracy: 0.9294\n",
            "Epoch 7/10\n",
            "544/544 [==============================] - 456s 838ms/step - loss: 0.2080 - accuracy: 0.9311 - val_loss: 0.2321 - val_accuracy: 0.9234\n",
            "Epoch 8/10\n",
            "544/544 [==============================] - 456s 839ms/step - loss: 0.1980 - accuracy: 0.9344 - val_loss: 0.2372 - val_accuracy: 0.9225\n",
            "Epoch 9/10\n",
            "544/544 [==============================] - 455s 837ms/step - loss: 0.1996 - accuracy: 0.9337 - val_loss: 0.2897 - val_accuracy: 0.9128\n",
            "Epoch 10/10\n",
            "544/544 [==============================] - 457s 840ms/step - loss: 0.2022 - accuracy: 0.9329 - val_loss: 0.2067 - val_accuracy: 0.9335\n"
          ],
          "name": "stdout"
        }
      ]
    },
    {
      "cell_type": "code",
      "metadata": {
        "colab": {
          "base_uri": "https://localhost:8080/"
        },
        "id": "Q92LnOrejvOy",
        "outputId": "36d89118-40d2-426a-b0cf-96e4d76bebbe"
      },
      "source": [
        "score = model.evaluate(test_generator)\r\n",
        "print('Test loss:', score[0])\r\n",
        "print('Test accuracy:', score[1])"
      ],
      "execution_count": null,
      "outputs": [
        {
          "output_type": "stream",
          "text": [
            "170/170 [==============================] - 24s 141ms/step - loss: 0.2316 - accuracy: 0.9234\n",
            "Test loss: 0.23159529268741608\n",
            "Test accuracy: 0.9234093427658081\n"
          ],
          "name": "stdout"
        }
      ]
    },
    {
      "cell_type": "code",
      "metadata": {
        "id": "p8xn5xF348Yj",
        "colab": {
          "base_uri": "https://localhost:8080/",
          "height": 513
        },
        "outputId": "9ad93015-46ce-4dd0-d266-b68f9b7ee8c6"
      },
      "source": [
        "acc = history.history['accuracy']\r\n",
        "val_acc = history.history['val_accuracy']\r\n",
        "\r\n",
        "loss = history.history['loss']\r\n",
        "val_loss = history.history['val_loss']\r\n",
        "\r\n",
        "plt.figure(figsize=(8, 8))\r\n",
        "plt.subplot(2, 1, 1)\r\n",
        "plt.plot(acc, label='Training Accuracy')\r\n",
        "plt.plot(val_acc, label='Validation Accuracy')\r\n",
        "plt.legend(loc='lower right')\r\n",
        "plt.ylabel('Accuracy')\r\n",
        "plt.ylim([min(plt.ylim()),1])\r\n",
        "plt.title('Training and Validation Accuracy')\r\n",
        "\r\n",
        "plt.subplot(2, 1, 2)\r\n",
        "plt.plot(loss, label='Training Loss')\r\n",
        "plt.plot(val_loss, label='Validation Loss')\r\n",
        "plt.legend(loc='upper right')\r\n",
        "plt.ylabel('Cross Entropy')\r\n",
        "plt.ylim([0,1.0])\r\n",
        "plt.title('Training and Validation Loss')\r\n",
        "plt.xlabel('epoch')\r\n",
        "plt.show()"
      ],
      "execution_count": null,
      "outputs": [
        {
          "output_type": "display_data",
          "data": {
            "image/png": "[encoded data removed]",
            "text/plain": [
              "<Figure size 576x576 with 2 Axes>"
            ]
          },
          "metadata": {
            "tags": [],
            "needs_background": "light"
          }
        }
      ]
    },
    {
      "cell_type": "code",
      "metadata": {
        "id": "7lcJ5LPH5AgD"
      },
      "source": [
        "base_model.trainable = True\r\n"
      ],
      "execution_count": null,
      "outputs": []
    },
    {
      "cell_type": "code",
      "metadata": {
        "id": "6bPo3kuA5E28"
      },
      "source": [
        "# Let's take a look to see how many layers are in the base model\r\n",
        "print(\"Number of layers in the base model: \", len(base_model.layers))\r\n",
        "\r\n",
        "# Fine tune from this layer onwards\r\n",
        "fine_tune_at = 100\r\n",
        "\r\n",
        "# Freeze all the layers before the `fine_tune_at` layer\r\n",
        "for layer in base_model.layers[:fine_tune_at]:\r\n",
        "  layer.trainable =  False"
      ],
      "execution_count": null,
      "outputs": []
    },
    {
      "cell_type": "code",
      "metadata": {
        "id": "mCwsge7M5Itc"
      },
      "source": [
        "model.compile(loss='categorical_crossentropy',\r\n",
        "              optimizer = tf.keras.optimizers.Adam(1e-5),\r\n",
        "              metrics=['accuracy'])"
      ],
      "execution_count": null,
      "outputs": []
    },
    {
      "cell_type": "code",
      "metadata": {
        "id": "zQILoyaY5LuA"
      },
      "source": [
        "model.summary()\r\n"
      ],
      "execution_count": null,
      "outputs": []
    },
    {
      "cell_type": "code",
      "metadata": {
        "id": "_E8i2dE95Nos"
      },
      "source": [
        "print('Number of trainable variables = {}'.format(len(model.trainable_variables)))\r\n"
      ],
      "execution_count": null,
      "outputs": []
    },
    {
      "cell_type": "code",
      "metadata": {
        "id": "X1q7woYb5Q1Z"
      },
      "source": [
        "history_fine = model.fit_generator(train_generator, \r\n",
        "                         epochs=5,\r\n",
        "                         validation_data=val_generator)"
      ],
      "execution_count": null,
      "outputs": []
    },
    {
      "cell_type": "code",
      "metadata": {
        "id": "x47bjlVe5VSl"
      },
      "source": [
        "acc = history_fine.history['accuracy']\r\n",
        "val_acc = history_fine.history['val_accuracy']\r\n",
        "\r\n",
        "loss = history_fine.history['loss']\r\n",
        "val_loss = history_fine.history['val_loss']\r\n",
        "\r\n",
        "plt.figure(figsize=(8, 8))\r\n",
        "plt.subplot(2, 1, 1)\r\n",
        "plt.plot(acc, label='Training Accuracy')\r\n",
        "plt.plot(val_acc, label='Validation Accuracy')\r\n",
        "plt.legend(loc='lower right')\r\n",
        "plt.ylabel('Accuracy')\r\n",
        "plt.ylim([min(plt.ylim()),1])\r\n",
        "plt.title('Training and Validation Accuracy')\r\n",
        "\r\n",
        "plt.subplot(2, 1, 2)\r\n",
        "plt.plot(loss, label='Training Loss')\r\n",
        "plt.plot(val_loss, label='Validation Loss')\r\n",
        "plt.legend(loc='upper right')\r\n",
        "plt.ylabel('Cross Entropy')\r\n",
        "plt.ylim([0,1.0])\r\n",
        "plt.title('Training and Validation Loss')\r\n",
        "plt.xlabel('epoch')\r\n",
        "plt.show()"
      ],
      "execution_count": null,
      "outputs": []
    },
    {
      "cell_type": "code",
      "metadata": {
        "id": "1NptdRuu5YpG"
      },
      "source": [
        "\r\n",
        "saved_model_dir = 'save/fine_tuning'\r\n",
        "tf.saved_model.save(model, saved_model_dir)\r\n",
        "\r\n",
        "converter = tf.lite.TFLiteConverter.from_saved_model(saved_model_dir)\r\n",
        "tflite_model = converter.convert()\r\n",
        "\r\n",
        "with open('model.tflite', 'wb') as f:\r\n",
        "  f.write(tflite_model)"
      ],
      "execution_count": null,
      "outputs": []
    },
    {
      "cell_type": "code",
      "metadata": {
        "id": "uDB0yDr55yTk"
      },
      "source": [
        "from google.colab import files\r\n",
        "\r\n",
        "files.download('./model.tflite')\r\n",
        "files.download('./labels.txt')\r\n"
      ],
      "execution_count": null,
      "outputs": []
    },
    {
      "cell_type": "code",
      "metadata": {
        "id": "X4mTMTcN50lB"
      },
      "source": [
        "#Add code to load model and continue working on it here\r\n",
        "#Add code to continue predictions here"
      ],
      "execution_count": null,
      "outputs": []
    }
  ]
}